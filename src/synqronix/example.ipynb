{
 "cells": [
  {
   "cell_type": "code",
   "execution_count": 1,
   "id": "f387d69d",
   "metadata": {},
   "outputs": [
    {
     "name": "stdout",
     "output_type": "stream",
     "text": [
      "/Users/mariayuffa/synqronix/src/synqronix/quantum_models\n",
      "/Users/mariayuffa/synqronix/src\n"
     ]
    }
   ],
   "source": [
    "import os\n",
    "import sys\n",
    "\n",
    "print(os.getcwd())\n",
    "os.chdir(\"..\")\n",
    "os.chdir(\"..\")\n",
    "print(os.getcwd())"
   ]
  },
  {
   "cell_type": "markdown",
   "id": "1ef25ca8",
   "metadata": {},
   "source": [
    "# Node level training"
   ]
  },
  {
   "cell_type": "code",
   "execution_count": null,
   "id": "c51adf8a",
   "metadata": {},
   "outputs": [],
   "source": [
    "from synqronix.trainer import GNNTrainer\n",
    "from synqronix.evaluation import plot_training_curves\n",
    "from synqronix.models.qgcn import QGCN\n",
    "from torch.nn import LeakyReLU\n",
    "import torch\n",
    "from synqronix.dataproc.dataloader import ColumnarNeuralGraphDataLoader, NeuralGraphDataLoader\n",
    "data_dir = \"./Auditory cortex data\"\n",
    "dataloader = NeuralGraphDataLoader(\n",
    "    data_dir=data_dir,\n",
    "    k=20,\n",
    "    connectivity_threshold=0.5,\n",
    "    batch_size=32\n",
    ")\n",
    "\n",
    "train_loader, val_loader, test_loader = dataloader.get_dataloaders()\n",
    "\n",
    "model_kwargs = {\n",
    "    'num_features': dataloader.get_num_features(),\n",
    "    'num_classes': dataloader.get_num_classes(),\n",
    "    'hidden_dim': 64,\n",
    "    'num_layers': 3,\n",
    "    'dropout_rate': 0.5\n",
    "}\n",
    "\n",
    "device = torch.device('cuda' if torch.cuda.is_available() else 'cpu')\n",
    "checkpoint_dir = \"./results/checkpoints\"\n",
    "checkpoint_freq = 5\n",
    "model = QGCN(input_dims=model_kwargs['num_features'], q_depths=[2,2], output_dims=model_kwargs['num_classes'], activ_fn=LeakyReLU(0.2), classifier=None, readout=False)\n",
    "lr = 0.001\n",
    "epochs = 160\n",
    "\n",
    "trainer = GNNTrainer(\n",
    "        model=model,\n",
    "        device=device,\n",
    "        save_dir=checkpoint_dir,\n",
    "        checkpoint_freq=checkpoint_freq\n",
    "    )\n",
    "    \n",
    "trainer.setup_optimizer(\n",
    "        optimizer_type='Adam',\n",
    "        lr=lr,\n",
    "        weight_decay=1e-4\n",
    "    )\n",
    "    \n",
    "print(\"Starting training...\")\n",
    "train_losses, val_losses, train_accs, val_accs = trainer.train(\n",
    "    train_loader=train_loader,\n",
    "    val_loader=val_loader,\n",
    "    num_epochs=epochs,\n",
    "    resume_from=None\n",
    "    )\n",
    "plot_training_curves(\n",
    "    train_losses, val_losses, train_accs, val_accs, trainer.val_f1_scores,\n",
    "    save_path=os.path.join(checkpoint_dir, 'training_curves.png')\n",
    ")\n"
   ]
  },
  {
   "cell_type": "code",
   "execution_count": null,
   "id": "d448a12d",
   "metadata": {},
   "outputs": [],
   "source": []
  }
 ],
 "metadata": {
  "kernelspec": {
   "display_name": "synqronix",
   "language": "python",
   "name": "python3"
  },
  "language_info": {
   "codemirror_mode": {
    "name": "ipython",
    "version": 3
   },
   "file_extension": ".py",
   "mimetype": "text/x-python",
   "name": "python",
   "nbconvert_exporter": "python",
   "pygments_lexer": "ipython3",
   "version": "3.10.13"
  }
 },
 "nbformat": 4,
 "nbformat_minor": 5
}
